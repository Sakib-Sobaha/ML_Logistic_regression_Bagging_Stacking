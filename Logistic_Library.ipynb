{
 "cells": [
  {
   "cell_type": "code",
   "execution_count": null,
   "metadata": {},
   "outputs": [],
   "source": [
    "import numpy as np\n",
    "from sklearn.datasets import make_classification\n",
    "from sklearn.model_selection import train_test_split\n",
    "from sklearn.linear_model import LogisticRegression\n",
    "from sklearn.ensemble import BaggingClassifier\n",
    "from sklearn.ensemble import StackingClassifier\n",
    "from sklearn.tree import DecisionTreeClassifier\n",
    "from sklearn.svm import SVC\n",
    "from sklearn.metrics import accuracy_score\n",
    "\n",
    "# Generate a sample dataset\n",
    "X, y = make_classification(n_samples=1000, n_features=20, n_informative=15, \n",
    "                           n_redundant=5, random_state=42)\n",
    "\n",
    "# Split the data into training and testing sets\n",
    "X_train, X_test, y_train, y_test = train_test_split(X, y, test_size=0.2, random_state=42)\n",
    "\n",
    "# Logistic Regression with Bagging\n",
    "bagging_lr = BaggingClassifier(\n",
    "    base_estimator=LogisticRegression(),\n",
    "    n_estimators=10,\n",
    "    random_state=42\n",
    ")\n",
    "bagging_lr.fit(X_train, y_train)\n",
    "bagging_pred = bagging_lr.predict(X_test)\n",
    "\n",
    "# Logistic Regression with Stacking\n",
    "base_models = [\n",
    "    ('lr', LogisticRegression()),\n",
    "    ('dt', DecisionTreeClassifier()),\n",
    "    ('svm', SVC(probability=True))\n",
    "]\n",
    "stacking_lr = StackingClassifier(\n",
    "    estimators=base_models,\n",
    "    final_estimator=LogisticRegression(),\n",
    "    cv=5\n",
    ")\n",
    "stacking_lr.fit(X_train, y_train)\n",
    "stacking_pred = stacking_lr.predict(X_test)\n",
    "\n",
    "# Evaluate models\n",
    "print(\"Bagging Accuracy:\", accuracy_score(y_test, bagging_pred))\n",
    "print(\"Stacking Accuracy:\", accuracy_score(y_test, stacking_pred))\n",
    "\n",
    "# Compare with simple Logistic Regression\n",
    "lr = LogisticRegression()\n",
    "lr.fit(X_train, y_train)\n",
    "lr_pred = lr.predict(X_test)\n",
    "print(\"Simple Logistic Regression Accuracy:\", accuracy_score(y_test, lr_pred))"
   ]
  }
 ],
 "metadata": {
  "language_info": {
   "name": "python"
  }
 },
 "nbformat": 4,
 "nbformat_minor": 2
}
